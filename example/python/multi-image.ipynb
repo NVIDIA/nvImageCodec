{
 "cells": [
  {
   "cell_type": "markdown",
   "id": "f7996d84",
   "metadata": {},
   "source": [
    "# Multi-image support"
   ]
  },
  {
   "cell_type": "code",
   "execution_count": null,
   "id": "24f5b0b8",
   "metadata": {},
   "outputs": [],
   "source": [
    "\n",
    "import os\n",
    "import numpy as np\n",
    "import cupy as cp\n",
    "from matplotlib import pyplot as plt\n"
   ]
  },
  {
   "cell_type": "markdown",
   "id": "5ec69c7a",
   "metadata": {},
   "source": [
    "Setting resource folder"
   ]
  },
  {
   "cell_type": "code",
   "execution_count": null,
   "id": "ece7921a",
   "metadata": {},
   "outputs": [],
   "source": [
    "resources_dir = os.getenv(\"PYNVIMGCODEC_EXAMPLES_RESOURCES_DIR\", \"../assets/images/\")"
   ]
  },
  {
   "cell_type": "markdown",
   "id": "f1f08527",
   "metadata": {},
   "source": [
    "Import nvImageCodec module and create Decoder"
   ]
  },
  {
   "cell_type": "code",
   "execution_count": null,
   "id": "63967ed7",
   "metadata": {},
   "outputs": [],
   "source": [
    "from nvidia import nvimgcodec\n",
    "decoder = nvimgcodec.Decoder()\n"
   ]
  },
  {
   "cell_type": "markdown",
   "id": "02f1c11a",
   "metadata": {},
   "source": [
    "Create CodeStream from tiff file"
   ]
  },
  {
   "cell_type": "code",
   "execution_count": null,
   "id": "1e26ca11",
   "metadata": {},
   "outputs": [],
   "source": [
    "\n",
    "img_full_path = os.path.abspath(os.path.join(resources_dir, \"multi_page.tif\"))\n",
    "\n",
    "cs = nvimgcodec.CodeStream(img_full_path)\n",
    "\n",
    "print(f\"Number of tiles (Y): {cs.num_tiles_y}, Number of tiles (X): {cs.num_tiles_x}\")\n",
    "print(f\"Tile height: {cs.tile_height}, Tile width: {cs.tile_width}\")\n",
    "print(f\"Number of images: {cs.num_images}\")\n",
    "print(f\"Image (0) height: {cs.height},  width: {cs.width}, number of channels: {cs.channels}, sample type: {cs.dtype}\")\n"
   ]
  },
  {
   "cell_type": "markdown",
   "id": "459a356a",
   "metadata": {},
   "source": [
    "Get sub code stream for first image (index 0) and decode it"
   ]
  },
  {
   "cell_type": "code",
   "execution_count": null,
   "id": "cbef8a89",
   "metadata": {},
   "outputs": [],
   "source": [
    "cs_0 = cs.getSubCodeStream(0)\n",
    "\n",
    "print(f\"Number of tiles (Y): {cs_0.num_tiles_y}, Number of tiles (X): {cs_0.num_tiles_x}\")\n",
    "print(f\"Tile height: {cs_0.tile_height}, Tile width: {cs_0.tile_width}\")\n",
    "print(f\"Image (0) height: {cs_0.height}, width: {cs_0.width}, number of channels: {cs_0.channels}, sample type:{cs_0.dtype}\")\n",
    "\n",
    "img_0 = decoder.decode(cs_0, nvimgcodec.DecodeParams(allow_any_depth=True, color_spec=nvimgcodec.ColorSpec.UNCHANGED))\n",
    "\n",
    "plt.imshow(img_0.cpu())"
   ]
  },
  {
   "cell_type": "markdown",
   "id": "a04e6dfd",
   "metadata": {},
   "source": [
    "Get sub code stream for image with index 2 and decode it"
   ]
  },
  {
   "cell_type": "code",
   "execution_count": null,
   "id": "2b69d700",
   "metadata": {},
   "outputs": [],
   "source": [
    "cs_2 = cs.getSubCodeStream(2)\n",
    "\n",
    "print(f\"Number of tiles (Y): {cs_2.num_tiles_y}, Number of tiles (X): {cs_2.num_tiles_x}\")\n",
    "print(f\"Tile height: {cs_2.tile_height}, Tile width: {cs_2.tile_width}\")\n",
    "print(f\"Image (2) height: {cs_2.height}, width: {cs_2.width}, number of channels: {cs_2.channels}, sample type:{cs_2.dtype}\")\n",
    "\n",
    "img_2 = decoder.decode(cs_2, nvimgcodec.DecodeParams(allow_any_depth=True, color_spec=nvimgcodec.ColorSpec.UNCHANGED))\n",
    "\n",
    "plt.imshow(img_2.cpu())"
   ]
  },
  {
   "cell_type": "markdown",
   "id": "8a4fd7af",
   "metadata": {},
   "source": [
    "Get sub code streams for all images in the loop and decode them one by one"
   ]
  },
  {
   "cell_type": "code",
   "execution_count": null,
   "id": "e10f49c4",
   "metadata": {},
   "outputs": [],
   "source": [
    "for code_stream_idx in range(0, cs.num_images):\n",
    "    sub_code_stream = cs.getSubCodeStream(code_stream_idx)\n",
    "    img = decoder.decode(sub_code_stream, nvimgcodec.DecodeParams(allow_any_depth=True, color_spec=nvimgcodec.ColorSpec.UNCHANGED))\n",
    "    print(img.__cuda_array_interface__)\n",
    "    print (\"precision\", img.precision)\n",
    "    plt.figure()\n",
    "    img_h = img.cpu() \n",
    "\n",
    "    if img.precision == 16:\n",
    "       img_h =  (np.asarray(img_h)  / 65535.0 * 255).astype(np.uint8)\n",
    "       \n",
    "    plt.imshow(img_h, cmap=('gray' if img_h.shape[2] == 1 else None))"
   ]
  },
  {
   "cell_type": "markdown",
   "id": "bfb3391a",
   "metadata": {},
   "source": [
    "Get sub code streams for all images in the loop and decode them in batch"
   ]
  },
  {
   "cell_type": "code",
   "execution_count": null,
   "id": "83a4f13b",
   "metadata": {},
   "outputs": [],
   "source": [
    "sub_code_streams = []\n",
    "\n",
    "for code_stream_idx in range(0, cs.num_images):\n",
    "    sub_code_streams.append(cs.getSubCodeStream(code_stream_idx))\n",
    "    imgs = decoder.decode(sub_code_streams, nvimgcodec.DecodeParams(allow_any_depth=True, color_spec=nvimgcodec.ColorSpec.UNCHANGED))\n",
    "\n",
    "for img in imgs:\n",
    "    plt.figure()\n",
    "    img_h = img.cpu() \n",
    "\n",
    "    if img.precision == 16:\n",
    "       img_h =  (np.asarray(img_h)  / 65535.0 * 255).astype(np.uint8)\n",
    "    plt.imshow(img_h, cmap=('gray' if img_h.shape[2] == 1 else None))"
   ]
  },
  {
   "cell_type": "markdown",
   "id": "4bb67975",
   "metadata": {},
   "source": [
    "Decode region from particular image"
   ]
  },
  {
   "cell_type": "code",
   "execution_count": null,
   "id": "ef1ff8a5",
   "metadata": {},
   "outputs": [],
   "source": [
    "cs_6 = cs.getSubCodeStream(5, nvimgcodec.Region(100, 175, 300, 400))\n",
    "\n",
    "print(f\"Number of tiles (Y): {cs_6.num_tiles_y}, Number of tiles (X): {cs_6.num_tiles_x}\")\n",
    "print(f\"Tile height: {cs_6.tile_height}, Tile width: {cs_6.tile_width}\")\n",
    "print(f\"Image (8) height: {cs_6.height}, width: {cs_6.width}, number of channels: {cs_6.channels}, sample type: {cs_6.dtype}\")\n",
    "\n",
    "img_6 = decoder.decode(cs_6, nvimgcodec.DecodeParams(allow_any_depth=True, color_spec=nvimgcodec.ColorSpec.UNCHANGED))\n",
    "\n",
    "img_h = img_6.cpu() \n",
    "\n",
    "if img_6.precision == 16:\n",
    "    img_h =  (np.asarray(img_h)  / 65535.0 * 255).astype(np.uint8)\n",
    "plt.imshow(img_h, cmap=('gray' if img_h.shape[2] == 1 else None))\n"
   ]
  }
 ],
 "metadata": {
  "kernelspec": {
   "display_name": "Python 3",
   "language": "python",
   "name": "python3"
  },
  "language_info": {
   "codemirror_mode": {
    "name": "ipython",
    "version": 3
   },
   "file_extension": ".py",
   "mimetype": "text/x-python",
   "name": "python",
   "nbconvert_exporter": "python",
   "pygments_lexer": "ipython3",
   "version": "3.12.8"
  }
 },
 "nbformat": 4,
 "nbformat_minor": 5
}
