{
 "cells": [
  {
   "attachments": {},
   "cell_type": "markdown",
   "metadata": {},
   "source": [
    "# CodeStream and partial (ROI) decoding"
   ]
  },
  {
   "cell_type": "markdown",
   "metadata": {},
   "source": [
    "In previous examples we have shown how to decode/read images by using the `nvimgcodec.Decoder.decode` and `nvimgcodec.Decoder.read` APIs, to decode from an in-memory encoded stream or a file path, respectively."
   ]
  },
  {
   "cell_type": "code",
   "execution_count": null,
   "metadata": {},
   "outputs": [],
   "source": [
    "import os\n",
    "import numpy as np\n",
    "from matplotlib import pyplot as plt\n",
    "resources_dir = os.getenv(\"PYNVIMGCODEC_EXAMPLES_RESOURCES_DIR\", \"../assets/images/\")\n",
    "img_full_path = os.path.abspath(os.path.join(resources_dir, \"cat-1046544_640.jp2\"))\n",
    "\n",
    "from nvidia import nvimgcodec\n",
    "decoder = nvimgcodec.Decoder()\n",
    "\n",
    "def display(images, titles=None, figsize=(10, 4)):\n",
    "    num_images = len(images)\n",
    "    fig, axes = plt.subplots(1, num_images, figsize=figsize)\n",
    "\n",
    "    if num_images == 1:\n",
    "        axes = [axes]\n",
    "\n",
    "    for i, ax in enumerate(axes):\n",
    "        ax.imshow(images[i])\n",
    "        if titles is not None and i < len(titles):\n",
    "            ax.set_title(titles[i])\n",
    "        ax.axis('off')\n",
    "\n",
    "    plt.tight_layout()\n",
    "    plt.show()"
   ]
  },
  {
   "cell_type": "markdown",
   "metadata": {},
   "source": [
    "We can use the `read` API to read and decode from a file path:"
   ]
  },
  {
   "cell_type": "code",
   "execution_count": null,
   "metadata": {},
   "outputs": [],
   "source": [
    "nv_img1 = decoder.read(img_full_path)"
   ]
  },
  {
   "cell_type": "markdown",
   "metadata": {},
   "source": [
    "Or the `decode` API to decode from an in-memory encoded stream: "
   ]
  },
  {
   "cell_type": "code",
   "execution_count": null,
   "metadata": {},
   "outputs": [],
   "source": [
    "with open(img_full_path, 'rb') as in_file:\n",
    "    data = in_file.read()\n",
    "data = nvimgcodec.CodeStream(data)"
   ]
  },
  {
   "cell_type": "code",
   "execution_count": null,
   "metadata": {},
   "outputs": [],
   "source": [
    "nv_img2 = decoder.decode(data)"
   ]
  },
  {
   "cell_type": "code",
   "execution_count": null,
   "metadata": {},
   "outputs": [],
   "source": [
    "display([nv_img1.cpu(), nv_img2.cpu()], [\"Decoder.read\", \"Decoder.decode\"])"
   ]
  },
  {
   "attachments": {},
   "cell_type": "markdown",
   "metadata": {},
   "source": [
    "These are the simplest methods for interacting with the decoder APIs, which suffice when decoding the entire image. However, there are instances where partial decoding, or region-of-interest (ROI) decoding, is necessary. This approach is particularly crucial for handling very large images, such as satellite, aerial, or medical images, which cannot fit into memory or are impractical to process in their entirety.\n",
    "\n",
    "nvImageCodec enables users to specify an ROI for the decode API via getting sub code stream for specified ROI. The decode source object includes an encoded stream, which can be an in-memory stream or a file location, and an optional region of interest. Below are examples of using the CodeStream object without specifying a region of interest:"
   ]
  },
  {
   "cell_type": "code",
   "execution_count": null,
   "metadata": {},
   "outputs": [],
   "source": [
    "# Decode source is a file path\n",
    "s1 = nvimgcodec.CodeStream(img_full_path)\n",
    "# Decode source is a `bytes` instance (in-memory)\n",
    "read_bytes = open(img_full_path, 'rb').read()\n",
    "s2 = nvimgcodec.CodeStream(read_bytes)\n",
    "# Decode source is a numpy array (in-memory)\n",
    "np_arr = np.fromfile(img_full_path, dtype=np.uint8)\n",
    "s3 = nvimgcodec.CodeStream(np_arr)\n",
    "\n",
    "images = [decoder.decode(s).cpu() for s in [s1, s2, s3]]\n",
    "titles = ['file path', 'bytes', 'np.array']\n",
    "display(images, titles)"
   ]
  },
  {
   "cell_type": "markdown",
   "metadata": {},
   "source": [
    "We can now show how to set a region of interest to the decode source location. For the sake of the example, let us find the dimensions of the image, so that we can produce a valid ROI."
   ]
  },
  {
   "cell_type": "code",
   "execution_count": null,
   "metadata": {},
   "outputs": [],
   "source": [
    "cs = nvimgcodec.CodeStream(img_full_path)\n",
    "print(cs.height, 'x', cs.width)"
   ]
  },
  {
   "cell_type": "markdown",
   "metadata": {},
   "source": [
    "As an example, let us decode a window centered in the image:"
   ]
  },
  {
   "cell_type": "code",
   "execution_count": null,
   "metadata": {},
   "outputs": [],
   "source": [
    "roi1 = nvimgcodec.Region(int(cs.height * 0.25), int(cs.width * 0.25), int(cs.height * 0.75), int(cs.width * 0.75))\n",
    "roi2 = nvimgcodec.Region(int(cs.height * 0.2), int(cs.width * 0.2), int(cs.height * 0.5), int(cs.width * 0.5))\n",
    "decode_sources = [cs.getSubCodeStream(region=roi) for roi in [roi1, roi2]]\n",
    "images = [image.cpu() for image in decoder.decode(decode_sources)]\n",
    "display(images, [str(roi1), str(roi2)])"
   ]
  },
  {
   "cell_type": "markdown",
   "metadata": {},
   "source": [
    "## Bonus: Exploiting tile geometry"
   ]
  },
  {
   "attachments": {},
   "cell_type": "markdown",
   "metadata": {},
   "source": [
    "Certain image formats, like TIFF and JPEG2000, allow images to be divided into separate tiles. When requesting an ROI, the alignment between the ROI and these tiles can lead to decoding one or more tiles of the image. In this example, we will demonstrate how to query the image's tile geometry to align the ROI reading pattern with the image tile boundaries."
   ]
  },
  {
   "cell_type": "code",
   "execution_count": null,
   "metadata": {},
   "outputs": [],
   "source": [
    "img_full_path = os.path.abspath(os.path.join(resources_dir, \"tiled-cat-1046544_640.jp2\"))\n",
    "cs = nvimgcodec.CodeStream(img_full_path)\n",
    "print('Image size:', cs.height, 'x', cs.width)\n",
    "print('Tile size:', cs.tile_height, 'x', cs.tile_width)"
   ]
  },
  {
   "cell_type": "markdown",
   "metadata": {},
   "source": [
    "When processing a given ROI, the decoder must load and decode the corresponding range of tiles. If the ROI boundary does not align with the tile boundary, the entire tile will be decoded, leading to partial data being discarded.\n",
    "\n",
    "In scenarios where we can determine the access pattern, we may opt to align the tiled reading with the image's tile geometry, thereby optimizing resource usage. The example below demonstrates how to create a grid of ROIs that match the image's tiles."
   ]
  },
  {
   "cell_type": "code",
   "execution_count": null,
   "metadata": {},
   "outputs": [],
   "source": [
    "decode_srcs = []\n",
    "nytiles = (cs.height + cs.tile_height - 1) // cs.tile_height\n",
    "nxtiles = (cs.width + cs.tile_width - 1) // cs.tile_width\n",
    "for i in range(nytiles):\n",
    "    row = []\n",
    "    for j in range(nxtiles):\n",
    "       start_y = i * cs.tile_height\n",
    "       end_y = min([(i + 1) * cs.tile_height, cs.height])\n",
    "       start_x = j * cs.tile_width\n",
    "       end_x = min([(j + 1) * cs.tile_width, cs.width])\n",
    "       row.append(\n",
    "           cs.getSubCodeStream(region=nvimgcodec.Region(start_y, start_x, end_y, end_x))\n",
    "       )\n",
    "    decode_srcs.append(row)"
   ]
  },
  {
   "cell_type": "code",
   "execution_count": null,
   "metadata": {},
   "outputs": [],
   "source": [
    "imgs = [img.cpu() for img in decoder.decode(decode_srcs[0][:-1])]\n",
    "display(imgs, [f\"(0, {i})\" for i, _ in enumerate(imgs)])"
   ]
  },
  {
   "cell_type": "code",
   "execution_count": null,
   "metadata": {},
   "outputs": [],
   "source": [
    "imgs = [img.cpu() for img in decoder.decode(decode_srcs[1][:-1])]\n",
    "display(imgs, [f\"(1, {i})\" for i, _ in enumerate(imgs)])"
   ]
  }
 ],
 "metadata": {
  "kernelspec": {
   "display_name": "Python 3",
   "language": "python",
   "name": "python3"
  },
  "language_info": {
   "codemirror_mode": {
    "name": "ipython",
    "version": 3
   },
   "file_extension": ".py",
   "mimetype": "text/x-python",
   "name": "python",
   "nbconvert_exporter": "python",
   "pygments_lexer": "ipython3",
   "version": "3.12.8"
  }
 },
 "nbformat": 4,
 "nbformat_minor": 4
}
